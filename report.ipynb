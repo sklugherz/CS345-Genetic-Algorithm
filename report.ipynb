{
 "cells": [
  {
   "cell_type": "markdown",
   "metadata": {},
   "source": [
    "## Introduction\n",
    "\n",
    "A genetic algorithm is a heuristic optimization technique inspired by the process of natural selection and genetics. It's used to find approximate solutions to optimization and search problems.\n",
    "\n",
    "We are using a genetic algorithm to optimize weights in a neural network to maxmize the effective predictive margin of profit returned by the neural network. \n",
    "\n",
    "## Data Set\n",
    "\n",
    "We chose this data set due to is accessiblity and availabilty from the yahoo yfinance library. The stock we chose was arbitrary we chose the first stock with a considerable amount of data. Apples data set has the last 5 years of trading data available. \n",
    "!(Apple stock data)[link]\n",
    "\n",
    "\n",
    "## Implenmentation\n",
    "\n",
    "To achieve this, we designed a genetic algorithm class:"
   ]
  },
  {
   "cell_type": "code",
   "execution_count": null,
   "metadata": {
    "vscode": {
     "languageId": "plaintext"
    }
   },
   "outputs": [],
   "source": [
    "Code for gen and agent()"
   ]
  }
 ],
 "metadata": {
  "language_info": {
   "name": "python"
  }
 },
 "nbformat": 4,
 "nbformat_minor": 2
}
